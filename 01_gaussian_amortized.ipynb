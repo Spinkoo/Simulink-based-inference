{
 "cells": [
  {
   "cell_type": "markdown",
   "metadata": {},
   "source": [
    "# Amortized posterior inference on Gaussian example"
   ]
  },
  {
   "cell_type": "markdown",
   "metadata": {},
   "source": [
    "Note, you can find the original version of this notebook at [https://github.com/sbi-dev/sbi/blob/main/tutorials/01_gaussian_amortized.ipynb](https://github.com/sbi-dev/sbi/blob/main/tutorials/01_gaussian_amortized.ipynb) in the `sbi` repository."
   ]
  },
  {
   "cell_type": "markdown",
   "metadata": {},
   "source": [
    "In this tutorial, we introduce **amortization** that is the capability to evaluate the posterior for different observations without having to re-run inference.\n",
    "\n",
    "We will demonstrate how `sbi` can infer an amortized posterior for the illustrative linear Gaussian example introduced in [Getting Started](00_getting_started_flexible.ipynb), that takes in 3 parameters ($\\theta$). "
   ]
  },
  {
   "cell_type": "code",
   "execution_count": 3,
   "metadata": {},
   "outputs": [],
   "source": [
    "import torch\n",
    "\n",
    "from sbi import analysis as analysis\n",
    "from sbi import utils as utils\n",
    "from sbi.inference import SNPE, simulate_for_sbi\n",
    "from sbi.utils.user_input_checks import (\n",
    "    check_sbi_inputs,\n",
    "    process_prior,\n",
    "    process_simulator,\n",
    ")"
   ]
  },
  {
   "cell_type": "markdown",
   "metadata": {},
   "source": [
    "## Defining simulator, prior, and running inference\n",
    "\n",
    "Our  _simulator_ (model) takes in 3 parameters ($\\theta$) and outputs simulations of the same dimensionality. It adds 1.0 and some Gaussian noise to the parameter set. For each dimension of $\\theta$, we consider a uniform _prior_ between [-2,2]."
   ]
  },
  {
   "cell_type": "code",
   "execution_count": 2,
   "metadata": {},
   "outputs": [],
   "source": [
    "num_dim = 3\n"
   ]
  },
  {
   "cell_type": "code",
   "execution_count": 32,
   "metadata": {},
   "outputs": [],
   "source": [
    "import sys\n",
    "sys.path.append('../Matlab2Py/')\n",
    "\n",
    "from offline_matlab import OfflineEngine\n",
    "\n",
    "import numpy as np\n",
    "import random\n",
    "\n",
    "\n",
    "def init_simulator(SIMULATION_PATH, model_name,):\n",
    "    #Here you setup your simulation configuration & initalzie necessary variables \n",
    "\n",
    "\n",
    "    MODEL_PATH = f\"{SIMULATION_PATH}{model_name}.slx\"\n",
    "    \n",
    "    eng = OfflineEngine(model_path = MODEL_PATH, sim_path = SIMULATION_PATH, model_name = model_name)\n",
    "    eng.load_engine()\n",
    "    #Run the simple_sim/init.m to initalize theta\n",
    "    eng.run_engine_script('init')\n",
    "    eng.set_simulation_mode(s_mode='normal')\n",
    "\n",
    "    return eng\n",
    "\n",
    "SIMULATION_PATH = 'simple_sim/'\n",
    "model_name = 'test'\n",
    "eng = init_simulator(SIMULATION_PATH=SIMULATION_PATH, model_name=model_name)\n",
    "\n"
   ]
  },
  {
   "cell_type": "code",
   "execution_count": 34,
   "metadata": {},
   "outputs": [],
   "source": [
    "\n",
    "def run_simulation(eng, theta : list[3]):\n",
    "    if type(theta) == torch.Tensor:\n",
    "        theta = theta.tolist()\n",
    "       \n",
    "    seeds = np.random.randint(0, np.iinfo(np.int32).max, size = num_dim)\n",
    "\n",
    "    o = eng.run_full_sim(blocks_inputs={'gau' : (seeds, 'seed'), 'theta' : (theta, 'Value')})\n",
    "    return eng.get_simoutput(o, 'simout')\n",
    "\n",
    "\n",
    "def simulator(eng):\n",
    "    def _simulator(inputs):\n",
    "        output = (torch.Tensor(run_simulation(eng, theta)).squeeze() for theta in inputs)\n",
    "        return torch.stack((*output,) )\n",
    "    return _simulator\n",
    "\n",
    "\n",
    "simul = simulator(eng)"
   ]
  },
  {
   "cell_type": "code",
   "execution_count": 35,
   "metadata": {},
   "outputs": [
    {
     "name": "stdout",
     "output_type": "stream",
     "text": [
      "[-1.0495095252990723, -0.8858451843261719, 0.9059114456176758] [[-0.02867730777124109,0.03817468086210174,1.9783324901194326]]\n",
      "[-0.534801721572876, -0.04720473289489746, 0.1421070098876953] [[0.365006751197294,1.0692902013048484,1.060945220194392]]\n",
      "[-1.7357046604156494, 0.9401614665985107, 1.0035202503204346] [[-0.7061409324441082,1.9389325110306619,1.8468089483527277]]\n"
     ]
    }
   ],
   "source": [
    "prior = utils.BoxUniform(low=-2 * torch.ones(num_dim), high=2 * torch.ones(num_dim))\n",
    "\n",
    "\n",
    "# Check prior, simulator, consistency\n",
    "prior, num_parameters, prior_returns_numpy = process_prior(prior)\n",
    "simul = process_simulator(simul, prior, prior_returns_numpy)\n",
    "check_sbi_inputs(simul, prior)"
   ]
  },
  {
   "cell_type": "code",
   "execution_count": 23,
   "metadata": {},
   "outputs": [
    {
     "name": "stderr",
     "output_type": "stream",
     "text": [
      "Running 2000 simulations.:   0%|          | 0/2000 [00:00<?, ?it/s]"
     ]
    },
    {
     "name": "stderr",
     "output_type": "stream",
     "text": [
      "Running 2000 simulations.: 100%|██████████| 2000/2000 [07:01<00:00,  4.74it/s]\n"
     ]
    },
    {
     "name": "stdout",
     "output_type": "stream",
     "text": [
      " Neural network successfully converged after 57 epochs."
     ]
    }
   ],
   "source": [
    "# Create inference object. Here, NPE is used.\n",
    "inference = SNPE(prior=prior)\n",
    "\n",
    "# generate simulations and pass to the inference object\n",
    "theta, x = simulate_for_sbi(simul, proposal=prior, num_simulations=2000)\n",
    "inference = inference.append_simulations(theta, x)\n",
    "\n",
    "# train the density estimator and build the posterior\n",
    "density_estimator = inference.train()\n",
    "posterior = inference.build_posterior(density_estimator)"
   ]
  },
  {
   "cell_type": "markdown",
   "metadata": {},
   "source": [
    "## Amortized inference\n",
    "Note that we have not yet provided an observation to the inference procedure. In fact, we can evaluate the posterior for different observations without having to re-run inference. This is called **amortization**. An amortized posterior is one that is not focused on any particular observation. Naturally, if the diversity of observations is large, any of the inference methods will need to run a sufficient number of simulations for the resulting posterior to perform well across these diverse observations."
   ]
  },
  {
   "cell_type": "markdown",
   "metadata": {},
   "source": [
    "Let's say we have not just one but two observations $x_{obs~1}$ and $x_{obs~2}$ for which we aim to do parameter inference. \n",
    "\n",
    "> Note: For real observations, of course, you would not have access to the ground truth $\\theta$."
   ]
  },
  {
   "cell_type": "code",
   "execution_count": 24,
   "metadata": {},
   "outputs": [],
   "source": [
    "# generate the first observation\n",
    "theta_1 = prior.sample((1,))\n",
    "x_obs_1 = simul(theta_1)\n",
    "# now generate a second observation\n",
    "theta_2 = prior.sample((1,))\n",
    "x_obs_2 = simul(theta_2)"
   ]
  },
  {
   "cell_type": "markdown",
   "metadata": {},
   "source": [
    "We can draw samples from the posterior given $x_{obs~1}$ and then plot them:"
   ]
  },
  {
   "cell_type": "code",
   "execution_count": 25,
   "metadata": {},
   "outputs": [
    {
     "name": "stderr",
     "output_type": "stream",
     "text": [
      "Drawing 10000 posterior samples: 10060it [00:00, 71260.86it/s]                          \n"
     ]
    },
    {
     "data": {
      "image/png": "[encoded data removed]",
      "text/plain": [
       "<Figure size 500x500 with 9 Axes>"
      ]
     },
     "metadata": {},
     "output_type": "display_data"
    }
   ],
   "source": [
    "posterior_samples_1 = posterior.sample((10000,), x=x_obs_1)\n",
    "\n",
    "# plot posterior samples\n",
    "_ = analysis.pairplot(\n",
    "    posterior_samples_1, limits=[[-2, 2], [-2, 2], [-2, 2]], figsize=(5, 5),\n",
    "    labels=[r\"$\\theta_1$\", r\"$\\theta_2$\", r\"$\\theta_3$\"],\n",
    "    points=theta_1 # add ground truth thetas\n",
    ")"
   ]
  },
  {
   "cell_type": "markdown",
   "metadata": {},
   "source": [
    "The inferred distirbutions over the parameters given the **first** observation $x_{obs~1}$ match the parameters $\\theta_{1}$ (shown in orange), we used to generate our first observation $x_{obs~1}$."
   ]
  },
  {
   "cell_type": "markdown",
   "metadata": {},
   "source": [
    "Since the learned posterior is **amortized**, we can also draw samples from the posterior given the second observation $x_{obs~2}$ without having to re-run inference:"
   ]
  },
  {
   "cell_type": "code",
   "execution_count": 26,
   "metadata": {},
   "outputs": [
    {
     "name": "stderr",
     "output_type": "stream",
     "text": [
      "Drawing 10000 posterior samples: 10096it [00:00, 85783.41it/s]                          \n"
     ]
    },
    {
     "data": {
      "image/png": "[encoded data removed]",
      "text/plain": [
       "<Figure size 500x500 with 9 Axes>"
      ]
     },
     "metadata": {},
     "output_type": "display_data"
    }
   ],
   "source": [
    "posterior_samples_2 = posterior.sample((10000,), x=x_obs_2)\n",
    "\n",
    "# plot posterior samples\n",
    "_ = analysis.pairplot(\n",
    "    posterior_samples_2, limits=[[-2, 2], [-2, 2], [-2, 2]], figsize=(5, 5),\n",
    "    labels=[r\"$\\theta_1$\", r\"$\\theta_2$\", r\"$\\theta_3$\"],\n",
    "    points=theta_2 # add ground truth thetas\n",
    ")"
   ]
  },
  {
   "cell_type": "markdown",
   "metadata": {},
   "source": [
    "The inferred distirbutions over the parameters given the **second** observation  $x_{obs~2}$ also match the ground truth parameters $\\theta_{2}$ we used to generate our second test observation  $x_{obs~2}$.\n",
    "\n",
    "This in a nutshell demonstrates the benefit of amortized methods. "
   ]
  },
  {
   "cell_type": "markdown",
   "metadata": {},
   "source": [
    "# Next steps\n",
    "\n",
    "Now that you got familiar with amortization and are probably good to go and have a first shot at applying `sbi` to your own inference problem. If you want to learn more, we recommend checking out our tutorial on\n",
    "[multiround inference ](03_multiround_inference.ipynb) which aims to make inference for a single observation more sampling efficient."
   ]
  }
 ],
 "metadata": {
  "kernelspec": {
   "display_name": "Python 3 (ipykernel)",
   "language": "python",
   "name": "python3"
  },
  "language_info": {
   "codemirror_mode": {
    "name": "ipython",
    "version": 3
   },
   "file_extension": ".py",
   "mimetype": "text/x-python",
   "name": "python",
   "nbconvert_exporter": "python",
   "pygments_lexer": "ipython3",
   "version": "3.9.10"
  }
 },
 "nbformat": 4,
 "nbformat_minor": 4
}
