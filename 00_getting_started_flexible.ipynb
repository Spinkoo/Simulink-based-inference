{
 "cells": [
  {
   "cell_type": "code",
   "execution_count": 159,
   "metadata": {},
   "outputs": [],
   "source": [
    "import torch\n",
    "\n",
    "from sbi.analysis import pairplot\n",
    "from sbi.utils import BoxUniform\n",
    "from sbi.inference import SNPE, simulate_for_sbi\n",
    "from sbi.utils.user_input_checks import (\n",
    "    check_sbi_inputs,\n",
    "    process_prior,\n",
    "    process_simulator,\n",
    ")\n"
   ]
  },
  {
   "cell_type": "code",
   "execution_count": 160,
   "metadata": {},
   "outputs": [],
   "source": [
    "import sys\n",
    "sys.path.append('../Matlab2Py/')\n",
    "\n",
    "from mat_engine import Engine\n",
    "\n",
    "import numpy as np\n",
    "import random\n",
    "\n",
    "\n",
    "def init_simulator(SIMULATION_PATH, model_name, simulation_type='normal', ):\n",
    "    #Here you setup your simulation configuration & initalzie necessary variables \n",
    "\n",
    "\n",
    "    MODEL_PATH = f\"{SIMULATION_PATH}{model_name}.slx\"\n",
    "    \n",
    "    eng = Engine(model_path = MODEL_PATH, sim_path = SIMULATION_PATH, model_name = model_name, simulation_type=simulation_type)\n",
    "    eng.load_engine()\n",
    "    #Run the simple_sim/init.m to initalize theta\n",
    "    eng.run_engine_script('init')\n",
    "    eng.set_simulation_mode(s_mode='Normal')\n",
    "\n",
    "    if eng.sim_type == 'sparsesbs':\n",
    "        # 1 second\n",
    "        STEP_SIZE = 1\n",
    "        eng.set_step_size(STEP_SIZE)  \n",
    "    return eng\n",
    "\n",
    "SIMULATION_PATH = 'simple_sim/'\n",
    "model_name = 'test'\n",
    "eng = init_simulator(SIMULATION_PATH=SIMULATION_PATH, model_name=model_name)\n",
    "\n",
    "num_dim = 3"
   ]
  },
  {
   "cell_type": "code",
   "execution_count": 161,
   "metadata": {},
   "outputs": [],
   "source": [
    "\n",
    "\n",
    "\n",
    "def run_simulation(eng, theta : list[3]):\n",
    "    if type(theta) == torch.Tensor:\n",
    "        theta = theta.tolist()\n",
    "    \n",
    "    seeds = np.random.randint(0, np.iinfo(np.int32).max, size = num_dim)\n",
    "    eng.set_param(block_path = \"gau\", value = str(seeds), type = \"seed\", )\n",
    "    eng.set_param(block_path = \"theta\", value = theta )\n",
    "    \n",
    "    eng.start_simulation()\n",
    "    return eng.get_ws_value(attribute = 'out.simout')\n",
    "\n",
    "def simulator(eng):\n",
    "    def _simulator(inputs):\n",
    "        output = (torch.Tensor(run_simulation(eng, theta)).squeeze() for theta in inputs)\n",
    "        return torch.stack((*output,) )\n",
    "    return _simulator\n",
    "\n",
    "\n",
    "simul = simulator(eng)"
   ]
  },
  {
   "cell_type": "code",
   "execution_count": 162,
   "metadata": {},
   "outputs": [],
   "source": [
    "\n",
    "def simulator(theta):\n",
    "    # linear gaussian\n",
    "    print(theta + 1.0 + torch.randn_like(theta) * 0.1)\n",
    "    return theta + 1.0 + torch.randn_like(theta) * 0.1\n",
    "\n",
    "prior = BoxUniform(low=-2 * torch.ones(num_dim), high=2 * torch.ones(num_dim))\n",
    "\n",
    "prior, num_parameters, prior_returns_numpy = process_prior(prior)\n",
    "\n",
    "# Check simulator, returns PyTorch simulator able to simulate batches.\n",
    "simul = process_simulator(simul, prior, prior_returns_numpy)\n"
   ]
  },
  {
   "cell_type": "code",
   "execution_count": 163,
   "metadata": {},
   "outputs": [],
   "source": [
    "check_sbi_inputs(simul, prior)\n"
   ]
  },
  {
   "cell_type": "code",
   "execution_count": 164,
   "metadata": {},
   "outputs": [
    {
     "name": "stderr",
     "output_type": "stream",
     "text": [
      "Running 2000 simulations.:   0%|          | 0/2000 [00:00<?, ?it/s]"
     ]
    },
    {
     "name": "stderr",
     "output_type": "stream",
     "text": [
      "Running 2000 simulations.: 100%|██████████| 2000/2000 [04:24<00:00,  7.55it/s]"
     ]
    },
    {
     "name": "stdout",
     "output_type": "stream",
     "text": [
      "theta torch.Size([2000, 3])\n",
      "x torch.Size([2000, 3])\n"
     ]
    },
    {
     "name": "stderr",
     "output_type": "stream",
     "text": [
      "\n"
     ]
    }
   ],
   "source": [
    "theta, x = simulate_for_sbi(simul, proposal=prior, num_simulations=2000)\n",
    "print(\"theta\", theta.shape)\n",
    "print(\"x\", x.shape)"
   ]
  },
  {
   "cell_type": "code",
   "execution_count": 165,
   "metadata": {},
   "outputs": [],
   "source": [
    "inference = SNPE(prior=prior)\n"
   ]
  },
  {
   "cell_type": "code",
   "execution_count": 166,
   "metadata": {},
   "outputs": [],
   "source": [
    "inference = inference.append_simulations(theta, x)\n"
   ]
  },
  {
   "cell_type": "code",
   "execution_count": 167,
   "metadata": {},
   "outputs": [
    {
     "name": "stdout",
     "output_type": "stream",
     "text": [
      " Neural network successfully converged after 121 epochs."
     ]
    }
   ],
   "source": [
    "density_estimator = inference.train()\n"
   ]
  },
  {
   "cell_type": "code",
   "execution_count": 168,
   "metadata": {},
   "outputs": [
    {
     "name": "stdout",
     "output_type": "stream",
     "text": [
      "Posterior conditional density p(θ|x) of type DirectPosterior. It samples the posterior network and rejects samples that\n",
      "            lie outside of the prior bounds.\n"
     ]
    }
   ],
   "source": [
    "posterior = inference.build_posterior(density_estimator)\n",
    "\n",
    "print(posterior) # prints how the posterior was trained"
   ]
  },
  {
   "cell_type": "code",
   "execution_count": 169,
   "metadata": {},
   "outputs": [],
   "source": [
    "theta_true = prior.sample((1,))\n",
    "# generate our observation\n",
    "x_obs = simul(theta_true)"
   ]
  },
  {
   "cell_type": "code",
   "execution_count": 170,
   "metadata": {},
   "outputs": [
    {
     "name": "stderr",
     "output_type": "stream",
     "text": [
      "Drawing 10000 posterior samples: 10177it [00:00, 44755.27it/s]                          \n"
     ]
    },
    {
     "data": {
      "image/png": "[encoded data removed]",
      "text/plain": [
       "<Figure size 600x600 with 9 Axes>"
      ]
     },
     "metadata": {},
     "output_type": "display_data"
    }
   ],
   "source": [
    "samples = posterior.sample((10000,), x=x_obs)\n",
    "_ = pairplot(samples, limits=[[-2, 2], [-2, 2], [-2, 2]], figsize=(6, 6),labels=[r\"$\\theta_1$\", r\"$\\theta_2$\", r\"$\\theta_3$\"])\n"
   ]
  },
  {
   "cell_type": "code",
   "execution_count": 171,
   "metadata": {},
   "outputs": [
    {
     "name": "stderr",
     "output_type": "stream",
     "text": [
      "Drawing 10000 posterior samples: 10107it [00:00, 50493.27it/s]                          \n"
     ]
    },
    {
     "data": {
      "image/png": "[encoded data removed]",
      "text/plain": [
       "<Figure size 600x600 with 9 Axes>"
      ]
     },
     "metadata": {},
     "output_type": "display_data"
    }
   ],
   "source": [
    "samples = posterior.sample((10000,), x=x_obs)\n",
    "_ = pairplot(samples, points=theta_true, limits=[[-2, 2], [-2, 2], [-2, 2]], figsize=(6, 6), labels=[r\"$\\theta_1$\", r\"$\\theta_2$\", r\"$\\theta_3$\"])"
   ]
  },
  {
   "cell_type": "code",
   "execution_count": 172,
   "metadata": {},
   "outputs": [],
   "source": [
    "# first sample an alternative parameter set from the prior\n",
    "theta_diff = prior.sample((1,))"
   ]
  },
  {
   "cell_type": "code",
   "execution_count": 173,
   "metadata": {},
   "outputs": [
    {
     "name": "stdout",
     "output_type": "stream",
     "text": [
      "high for true theta : tensor([3.9381])\n",
      "low for different theta : tensor([-68.8546])\n",
      "range of posterior samples: min: tensor(-6.2283)  max : tensor(4.6088)\n"
     ]
    }
   ],
   "source": [
    "log_probability_true_theta = posterior.log_prob(theta_true, x=x_obs)\n",
    "log_probability_diff_theta = posterior.log_prob(theta_diff, x=x_obs)\n",
    "log_probability_samples = posterior.log_prob(samples, x=x_obs)\n",
    "\n",
    "print( r'high for true theta :', log_probability_true_theta)\n",
    "print( r'low for different theta :', log_probability_diff_theta)\n",
    "print( r'range of posterior samples: min:', torch.min(log_probability_samples),' max :', torch.max(log_probability_samples))"
   ]
  }
 ],
 "metadata": {
  "kernelspec": {
   "display_name": "sib",
   "language": "python",
   "name": "python3"
  },
  "language_info": {
   "codemirror_mode": {
    "name": "ipython",
    "version": 3
   },
   "file_extension": ".py",
   "mimetype": "text/x-python",
   "name": "python",
   "nbconvert_exporter": "python",
   "pygments_lexer": "ipython3",
   "version": "3.9.10"
  }
 },
 "nbformat": 4,
 "nbformat_minor": 2
}
